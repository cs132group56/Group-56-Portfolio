{
  "cells": [
    {
      "attachments": {},
      "cell_type": "markdown",
      "metadata": {
        "id": "zC-A4l7wpyiw"
      },
      "source": [
        "## **Data Exploration of Negative Tweets rooted on the NTF-ELCAC's Red-tagging of Community Pantries during Covid-19 Pandemic**\n",
        "---\n"
      ]
    },
    {
      "cell_type": "code",
      "execution_count": 197,
      "metadata": {
        "id": "n4NEvvYjpjju"
      },
      "outputs": [],
      "source": [
        "import pandas as pd\n",
        "import seaborn as sns\n",
        "from sklearn.preprocessing import StandardScaler\n",
        "import matplotlib.pyplot as plt\n",
        "import nltk"
      ]
    },
    {
      "attachments": {},
      "cell_type": "markdown",
      "metadata": {},
      "source": [
        "### **Importing the dataset**"
      ]
    },
    {
      "attachments": {},
      "cell_type": "markdown",
      "metadata": {},
      "source": [
        "Before importing the dataset, we have taken into the account and replaced the errors that were found during the data review process especially those related to the accuracy of the inputted dates and their formatting."
      ]
    },
    {
      "cell_type": "code",
      "execution_count": 198,
      "metadata": {
        "colab": {
          "base_uri": "https://localhost:8080/",
          "height": 750
        },
        "id": "U2WcJiTcvmvF",
        "outputId": "aa627b38-692f-48a7-a37c-08dbf3d1cc22"
      },
      "outputs": [
        {
          "data": {
            "text/html": [
              "<div>\n",
              "<style scoped>\n",
              "    .dataframe tbody tr th:only-of-type {\n",
              "        vertical-align: middle;\n",
              "    }\n",
              "\n",
              "    .dataframe tbody tr th {\n",
              "        vertical-align: top;\n",
              "    }\n",
              "\n",
              "    .dataframe thead th {\n",
              "        text-align: right;\n",
              "    }\n",
              "</style>\n",
              "<table border=\"1\" class=\"dataframe\">\n",
              "  <thead>\n",
              "    <tr style=\"text-align: right;\">\n",
              "      <th></th>\n",
              "      <th>ID</th>\n",
              "      <th>Timestamp</th>\n",
              "      <th>Tweet URL</th>\n",
              "      <th>Group</th>\n",
              "      <th>Collector</th>\n",
              "      <th>Category</th>\n",
              "      <th>Topic</th>\n",
              "      <th>Keywords</th>\n",
              "      <th>Account handle</th>\n",
              "      <th>Account name</th>\n",
              "      <th>Account bio</th>\n",
              "      <th>Account type</th>\n",
              "      <th>Joined</th>\n",
              "      <th>Following</th>\n",
              "      <th>Followers</th>\n",
              "      <th>Location</th>\n",
              "      <th>Tweet</th>\n",
              "      <th>Date posted</th>\n",
              "      <th>Tweet Translated</th>\n",
              "      <th>Tweet Type</th>\n",
              "      <th>Screenshot</th>\n",
              "      <th>Content type</th>\n",
              "      <th>Likes</th>\n",
              "      <th>Replies</th>\n",
              "      <th>Retweets</th>\n",
              "      <th>Quote Tweets</th>\n",
              "      <th>Views</th>\n",
              "      <th>Rating</th>\n",
              "      <th>Reasoning</th>\n",
              "      <th>Remarks</th>\n",
              "      <th>Reviewer</th>\n",
              "      <th>Review</th>\n",
              "    </tr>\n",
              "  </thead>\n",
              "  <tbody>\n",
              "    <tr>\n",
              "      <th>0</th>\n",
              "      <td>56-1</td>\n",
              "      <td>29/03/23 08:50:31</td>\n",
              "      <td>https://twitter.com/eto_tome/status/1593016340...</td>\n",
              "      <td>56</td>\n",
              "      <td>Jafri, Ali Mahmood</td>\n",
              "      <td>REDT</td>\n",
              "      <td>Negative Tweets towards Community pantries</td>\n",
              "      <td>\"Communist\" \"pantry\"</td>\n",
              "      <td>@eto_tome</td>\n",
              "      <td>tome eto</td>\n",
              "      <td>Medical Professional. Business owner.</td>\n",
              "      <td>Anonymous</td>\n",
              "      <td>12/11</td>\n",
              "      <td>221</td>\n",
              "      <td>381</td>\n",
              "      <td>NaN</td>\n",
              "      <td>@Moneyma78808638 Communist pantry na puro kamo...</td>\n",
              "      <td>17/11/22 07:01</td>\n",
              "      <td>NaN</td>\n",
              "      <td>Text, Reply</td>\n",
              "      <td>https://drive.google.com/file/d/1-HDQ08jQspUQ3...</td>\n",
              "      <td>Emotional</td>\n",
              "      <td>1</td>\n",
              "      <td>0</td>\n",
              "      <td>0</td>\n",
              "      <td>0</td>\n",
              "      <td>NaN</td>\n",
              "      <td>NaN</td>\n",
              "      <td>The Maginhawa pantry closed due to the founder...</td>\n",
              "      <td>No location</td>\n",
              "      <td>NaN</td>\n",
              "      <td>NaN</td>\n",
              "    </tr>\n",
              "    <tr>\n",
              "      <th>1</th>\n",
              "      <td>56-2</td>\n",
              "      <td>29/03/23 22:45:45</td>\n",
              "      <td>https://twitter.com/gon_bmt216a/status/1593478...</td>\n",
              "      <td>56</td>\n",
              "      <td>Jafri, Ali Mahmood</td>\n",
              "      <td>REDT</td>\n",
              "      <td>Negative Tweets towards Community pantries</td>\n",
              "      <td>\"Communist\" \"pantry\"</td>\n",
              "      <td>@gon_bmt216a</td>\n",
              "      <td>hwarang ◐○◑👆🌈 🤴</td>\n",
              "      <td>JEPROKS\\n🎹🎼🎤asal ay gahaman,\\nmalakas sa inuma...</td>\n",
              "      <td>Anonymous</td>\n",
              "      <td>05/21</td>\n",
              "      <td>812</td>\n",
              "      <td>719</td>\n",
              "      <td>14.8745°N 121.1446°E</td>\n",
              "      <td>@Scarlet87983415 @_miggypot29 Parang yon sa co...</td>\n",
              "      <td>18/11/22 13:37</td>\n",
              "      <td>NaN</td>\n",
              "      <td>Text, Reply</td>\n",
              "      <td>https://drive.google.com/file/d/1UQCThjpQyGhDX...</td>\n",
              "      <td>Emotional</td>\n",
              "      <td>1</td>\n",
              "      <td>0</td>\n",
              "      <td>0</td>\n",
              "      <td>0</td>\n",
              "      <td>NaN</td>\n",
              "      <td>NaN</td>\n",
              "      <td>Rolando dela Cruz's death was not intentional ...</td>\n",
              "      <td>NaN</td>\n",
              "      <td>NaN</td>\n",
              "      <td>NaN</td>\n",
              "    </tr>\n",
              "    <tr>\n",
              "      <th>2</th>\n",
              "      <td>56-3</td>\n",
              "      <td>29/03/23 22:49:31</td>\n",
              "      <td>https://twitter.com/si_ich_ivi/status/15745565...</td>\n",
              "      <td>56</td>\n",
              "      <td>Jafri, Ali Mahmood</td>\n",
              "      <td>REDT</td>\n",
              "      <td>Negative Tweets towards Community pantries</td>\n",
              "      <td>\"Communist\" \"pantry\"</td>\n",
              "      <td>@si_ich_ivi</td>\n",
              "      <td>ɔ ɥ ǝ ʌ</td>\n",
              "      <td>ɹʇs ƃoop sʇnɟɟ. ɹoɐsʇs sʇndıp sʇnɟɟ.</td>\n",
              "      <td>Anonymous</td>\n",
              "      <td>09/21</td>\n",
              "      <td>102</td>\n",
              "      <td>292</td>\n",
              "      <td>NaN</td>\n",
              "      <td>Communist Pantry na naman? Di na papatol yan. ...</td>\n",
              "      <td>27/09/22 08:28</td>\n",
              "      <td>NaN</td>\n",
              "      <td>Text, Reply</td>\n",
              "      <td>https://drive.google.com/file/d/1tfaMZXN8NulVG...</td>\n",
              "      <td>Rational</td>\n",
              "      <td>0</td>\n",
              "      <td>0</td>\n",
              "      <td>0</td>\n",
              "      <td>0</td>\n",
              "      <td>NaN</td>\n",
              "      <td>NaN</td>\n",
              "      <td>There are always people in need of food and re...</td>\n",
              "      <td>Account location unavailable in bio</td>\n",
              "      <td>NaN</td>\n",
              "      <td>NaN</td>\n",
              "    </tr>\n",
              "    <tr>\n",
              "      <th>3</th>\n",
              "      <td>56-4</td>\n",
              "      <td>29/03/23 22:53:26</td>\n",
              "      <td>https://twitter.com/si_ich_ivi/status/15616560...</td>\n",
              "      <td>56</td>\n",
              "      <td>Jafri, Ali Mahmood</td>\n",
              "      <td>REDT</td>\n",
              "      <td>Negative Tweets towards Community pantries</td>\n",
              "      <td>\"Communist\" \"pantry\"</td>\n",
              "      <td>@si_ich_ivi</td>\n",
              "      <td>ɔ ɥ ǝ ʌ</td>\n",
              "      <td>ɹʇs ƃoop sʇnɟɟ. ɹoɐsʇs sʇndıp sʇnɟɟ.</td>\n",
              "      <td>Anonymous</td>\n",
              "      <td>09/21</td>\n",
              "      <td>102</td>\n",
              "      <td>292</td>\n",
              "      <td>NaN</td>\n",
              "      <td>@nick_nangit Walang pinagkaiba sa communist pa...</td>\n",
              "      <td>22/08/22 18:06</td>\n",
              "      <td>NaN</td>\n",
              "      <td>Text, Reply</td>\n",
              "      <td>https://drive.google.com/file/d/1keszXvA7A58EC...</td>\n",
              "      <td>Rational</td>\n",
              "      <td>2</td>\n",
              "      <td>0</td>\n",
              "      <td>0</td>\n",
              "      <td>0</td>\n",
              "      <td>NaN</td>\n",
              "      <td>NaN</td>\n",
              "      <td>Non's community pantry is not affiliated with ...</td>\n",
              "      <td>Reply to unavailable tweet.\\nAccount location ...</td>\n",
              "      <td>NaN</td>\n",
              "      <td>NaN</td>\n",
              "    </tr>\n",
              "    <tr>\n",
              "      <th>4</th>\n",
              "      <td>56-5</td>\n",
              "      <td>29/03/23 22:56:47</td>\n",
              "      <td>https://twitter.com/gon_bmt216a/status/1548222...</td>\n",
              "      <td>56</td>\n",
              "      <td>Jafri, Ali Mahmood</td>\n",
              "      <td>REDT</td>\n",
              "      <td>Negative Tweets towards Community pantries</td>\n",
              "      <td>\"Communist\" \"pantry\"</td>\n",
              "      <td>@gon_bmt216a</td>\n",
              "      <td>hwarang ◐○◑👆🌈 🤴</td>\n",
              "      <td>JEPROKS\\n🎹🎼🎤asal ay gahaman,\\nmalakas sa inuma...</td>\n",
              "      <td>Anonymous</td>\n",
              "      <td>05/21</td>\n",
              "      <td>812</td>\n",
              "      <td>719</td>\n",
              "      <td>14.8745°N 121.1446°E</td>\n",
              "      <td>@Jjcruz2 @iamwhatiam300 Yon birthday communist...</td>\n",
              "      <td>16/07/22 16:26</td>\n",
              "      <td>NaN</td>\n",
              "      <td>Text, Reply</td>\n",
              "      <td>https://drive.google.com/file/d/1Dhh0CFZUwrVlm...</td>\n",
              "      <td>Emotional</td>\n",
              "      <td>2</td>\n",
              "      <td>0</td>\n",
              "      <td>0</td>\n",
              "      <td>0</td>\n",
              "      <td>NaN</td>\n",
              "      <td>NaN</td>\n",
              "      <td>Rolando dela Cruz's death was not intentional ...</td>\n",
              "      <td>No location</td>\n",
              "      <td>NaN</td>\n",
              "      <td>NaN</td>\n",
              "    </tr>\n",
              "  </tbody>\n",
              "</table>\n",
              "</div>"
            ],
            "text/plain": [
              "     ID          Timestamp                                          Tweet URL  \\\n",
              "0  56-1  29/03/23 08:50:31  https://twitter.com/eto_tome/status/1593016340...   \n",
              "1  56-2  29/03/23 22:45:45  https://twitter.com/gon_bmt216a/status/1593478...   \n",
              "2  56-3  29/03/23 22:49:31  https://twitter.com/si_ich_ivi/status/15745565...   \n",
              "3  56-4  29/03/23 22:53:26  https://twitter.com/si_ich_ivi/status/15616560...   \n",
              "4  56-5  29/03/23 22:56:47  https://twitter.com/gon_bmt216a/status/1548222...   \n",
              "\n",
              "   Group           Collector Category  \\\n",
              "0     56  Jafri, Ali Mahmood     REDT   \n",
              "1     56  Jafri, Ali Mahmood     REDT   \n",
              "2     56  Jafri, Ali Mahmood     REDT   \n",
              "3     56  Jafri, Ali Mahmood     REDT   \n",
              "4     56  Jafri, Ali Mahmood     REDT   \n",
              "\n",
              "                                        Topic              Keywords  \\\n",
              "0  Negative Tweets towards Community pantries  \"Communist\" \"pantry\"   \n",
              "1  Negative Tweets towards Community pantries  \"Communist\" \"pantry\"   \n",
              "2  Negative Tweets towards Community pantries  \"Communist\" \"pantry\"   \n",
              "3  Negative Tweets towards Community pantries  \"Communist\" \"pantry\"   \n",
              "4  Negative Tweets towards Community pantries  \"Communist\" \"pantry\"   \n",
              "\n",
              "  Account handle     Account name  \\\n",
              "0      @eto_tome         tome eto   \n",
              "1   @gon_bmt216a  hwarang ◐○◑👆🌈 🤴   \n",
              "2    @si_ich_ivi          ɔ ɥ ǝ ʌ   \n",
              "3    @si_ich_ivi          ɔ ɥ ǝ ʌ   \n",
              "4   @gon_bmt216a  hwarang ◐○◑👆🌈 🤴   \n",
              "\n",
              "                                         Account bio Account type Joined  \\\n",
              "0              Medical Professional. Business owner.    Anonymous  12/11   \n",
              "1  JEPROKS\\n🎹🎼🎤asal ay gahaman,\\nmalakas sa inuma...    Anonymous  05/21   \n",
              "2               ɹʇs ƃoop sʇnɟɟ. ɹoɐsʇs sʇndıp sʇnɟɟ.    Anonymous  09/21   \n",
              "3               ɹʇs ƃoop sʇnɟɟ. ɹoɐsʇs sʇndıp sʇnɟɟ.    Anonymous  09/21   \n",
              "4  JEPROKS\\n🎹🎼🎤asal ay gahaman,\\nmalakas sa inuma...    Anonymous  05/21   \n",
              "\n",
              "   Following  Followers              Location  \\\n",
              "0        221        381                   NaN   \n",
              "1        812        719  14.8745°N 121.1446°E   \n",
              "2        102        292                   NaN   \n",
              "3        102        292                   NaN   \n",
              "4        812        719  14.8745°N 121.1446°E   \n",
              "\n",
              "                                               Tweet     Date posted  \\\n",
              "0  @Moneyma78808638 Communist pantry na puro kamo...  17/11/22 07:01   \n",
              "1  @Scarlet87983415 @_miggypot29 Parang yon sa co...  18/11/22 13:37   \n",
              "2  Communist Pantry na naman? Di na papatol yan. ...  27/09/22 08:28   \n",
              "3  @nick_nangit Walang pinagkaiba sa communist pa...  22/08/22 18:06   \n",
              "4  @Jjcruz2 @iamwhatiam300 Yon birthday communist...  16/07/22 16:26   \n",
              "\n",
              "   Tweet Translated   Tweet Type  \\\n",
              "0               NaN  Text, Reply   \n",
              "1               NaN  Text, Reply   \n",
              "2               NaN  Text, Reply   \n",
              "3               NaN  Text, Reply   \n",
              "4               NaN  Text, Reply   \n",
              "\n",
              "                                          Screenshot Content type  Likes  \\\n",
              "0  https://drive.google.com/file/d/1-HDQ08jQspUQ3...    Emotional      1   \n",
              "1  https://drive.google.com/file/d/1UQCThjpQyGhDX...    Emotional      1   \n",
              "2  https://drive.google.com/file/d/1tfaMZXN8NulVG...     Rational      0   \n",
              "3  https://drive.google.com/file/d/1keszXvA7A58EC...     Rational      2   \n",
              "4  https://drive.google.com/file/d/1Dhh0CFZUwrVlm...    Emotional      2   \n",
              "\n",
              "   Replies  Retweets  Quote Tweets  Views  Rating  \\\n",
              "0        0         0             0    NaN     NaN   \n",
              "1        0         0             0    NaN     NaN   \n",
              "2        0         0             0    NaN     NaN   \n",
              "3        0         0             0    NaN     NaN   \n",
              "4        0         0             0    NaN     NaN   \n",
              "\n",
              "                                           Reasoning  \\\n",
              "0  The Maginhawa pantry closed due to the founder...   \n",
              "1  Rolando dela Cruz's death was not intentional ...   \n",
              "2  There are always people in need of food and re...   \n",
              "3  Non's community pantry is not affiliated with ...   \n",
              "4  Rolando dela Cruz's death was not intentional ...   \n",
              "\n",
              "                                             Remarks  Reviewer  Review  \n",
              "0                                        No location       NaN     NaN  \n",
              "1                                                NaN       NaN     NaN  \n",
              "2                Account location unavailable in bio       NaN     NaN  \n",
              "3  Reply to unavailable tweet.\\nAccount location ...       NaN     NaN  \n",
              "4                                        No location       NaN     NaN  "
            ]
          },
          "execution_count": 198,
          "metadata": {},
          "output_type": "execute_result"
        }
      ],
      "source": [
        "#url = \"https://github.com/cs132group56/Group-56-Portfolio/raw/main/exploration/Dataset%20-%20Group%2056.xlsx\"\n",
        "#df=pd.read_excel(url)\n",
        "df=pd.read_excel(\"Dataset - Group 56.xlsx\")\n",
        "pd.set_option(\"display.max_columns\", df.shape[1])\n",
        "df.head()"
      ]
    },
    {
      "attachments": {},
      "cell_type": "markdown",
      "metadata": {},
      "source": [
        "### **General Dataframe Information**\n",
        "\n",
        "In this section, we identify the shape, number of features, data types, number of missing values, and range of values per feature of the initial imported dataset to get a grasp of the data that we will be dealing with."
      ]
    },
    {
      "cell_type": "code",
      "execution_count": 199,
      "metadata": {},
      "outputs": [
        {
          "name": "stdout",
          "output_type": "stream",
          "text": [
            "========================================\n",
            "Dataframe shape: (152, 32)\n",
            "========================================\n",
            "Number of columns: 32\n",
            "Columns: ['ID', 'Timestamp', 'Tweet URL', 'Group', 'Collector', 'Category', 'Topic', 'Keywords', 'Account handle', 'Account name', 'Account bio', 'Account type', 'Joined', 'Following', 'Followers', 'Location', 'Tweet', 'Date posted', 'Tweet Translated', 'Tweet Type', 'Screenshot', 'Content type', 'Likes', 'Replies', 'Retweets', 'Quote Tweets', 'Views', 'Rating', 'Reasoning', 'Remarks', 'Reviewer', 'Review']\n",
            "========================================\n",
            "Data types per column:\n",
            "ID : [<class 'str'>]\n",
            "Timestamp : [<class 'str'>]\n",
            "Tweet URL : [<class 'str'>]\n",
            "Group : [<class 'int'>]\n",
            "Collector : [<class 'str'>]\n",
            "Category : [<class 'str'>]\n",
            "Topic : [<class 'str'>]\n",
            "Keywords : [<class 'str'>]\n",
            "Account handle : [<class 'str'>]\n",
            "Account name : [<class 'str'>]\n",
            "Account bio : [<class 'str'> <class 'float'>]\n",
            "Account type : [<class 'str'>]\n",
            "Joined : [<class 'str'>]\n",
            "Following : [<class 'int'>]\n",
            "Followers : [<class 'int'>]\n",
            "Location : [<class 'float'> <class 'str'>]\n",
            "Tweet : [<class 'str'>]\n",
            "Date posted : [<class 'str'>]\n",
            "Tweet Translated : [<class 'float'>]\n",
            "Tweet Type : [<class 'str'>]\n",
            "Screenshot : [<class 'str'> <class 'float'>]\n",
            "Content type : [<class 'str'>]\n",
            "Likes : [<class 'int'>]\n",
            "Replies : [<class 'int'>]\n",
            "Retweets : [<class 'int'>]\n",
            "Quote Tweets : [<class 'int'>]\n",
            "Views : [<class 'float'>]\n",
            "Rating : [<class 'float'>]\n",
            "Reasoning : [<class 'str'>]\n",
            "Remarks : [<class 'str'> <class 'float'>]\n",
            "Reviewer : [<class 'float'>]\n",
            "Review : [<class 'float'>]\n",
            "========================================\n",
            "ID                    0\n",
            "Timestamp             0\n",
            "Tweet URL             0\n",
            "Group                 0\n",
            "Collector             0\n",
            "Category              0\n",
            "Topic                 0\n",
            "Keywords              0\n",
            "Account handle        0\n",
            "Account name          0\n",
            "Account bio          21\n",
            "Account type          0\n",
            "Joined                0\n",
            "Following             0\n",
            "Followers             0\n",
            "Location             91\n",
            "Tweet                 0\n",
            "Date posted           0\n",
            "Tweet Translated    152\n",
            "Tweet Type            0\n",
            "Screenshot           61\n",
            "Content type          0\n",
            "Likes                 0\n",
            "Replies               0\n",
            "Retweets              0\n",
            "Quote Tweets          0\n",
            "Views               152\n",
            "Rating              152\n",
            "Reasoning             0\n",
            "Remarks              66\n",
            "Reviewer            152\n",
            "Review              152\n",
            "dtype: int64\n",
            "Columns with missing values ['Account bio', 'Location', 'Tweet Translated', 'Screenshot', 'Views', 'Rating', 'Remarks', 'Reviewer', 'Review']\n",
            "========================================\n",
            "Range of values per numeric column:\n",
            "     Group  Following  Followers  Tweet Translated  Likes  Replies  Retweets  \\\n",
            "min   56.0        2.0        0.0               NaN    0.0      0.0       0.0   \n",
            "max   56.0    16100.0    28800.0               NaN  912.0     76.0     125.0   \n",
            "\n",
            "     Quote Tweets  Views  Rating  Reviewer  Review  \n",
            "min           0.0    NaN     NaN       NaN     NaN  \n",
            "max          17.0    NaN     NaN       NaN     NaN  \n",
            "========================================\n"
          ]
        }
      ],
      "source": [
        "#What is the size/shape of the dataset?\n",
        "print(\"=\"*40)\n",
        "print(\"Dataframe shape:\",df.shape)\n",
        "#How many columns are there in the dataset?\n",
        "print(\"=\"*40)\n",
        "print(\"Number of columns:\",df.shape[1])\n",
        "print(\"Columns:\",df.columns.to_list())\n",
        "#What is the data type of each column?\n",
        "print(\"=\"*40)\n",
        "print(\"Data types per column:\")\n",
        "for col in df.columns:\n",
        "  print(col,\":\",df[col].map(type).unique())\n",
        "#Are there any missing values in the dataset? If so, how many and in which columns?\n",
        "print(\"=\"*40)\n",
        "print(df.isnull().sum())\n",
        "print(\"Columns with missing values\", df.columns[df.isna().any()].tolist())\n",
        "#What is the range of values for each numeric column in the dataset?\n",
        "print(\"=\"*40)\n",
        "print(\"Range of values per numeric column:\")\n",
        "print(df.describe().loc[['min', 'max']])\n",
        "print(\"=\"*40)"
      ]
    },
    {
      "attachments": {},
      "cell_type": "markdown",
      "metadata": {
        "id": "b3lBCpIpwmld"
      },
      "source": [
        "### **Preprocessing**"
      ]
    },
    {
      "attachments": {},
      "cell_type": "markdown",
      "metadata": {},
      "source": [
        "To limit the number of features we will need utilize for analysis, we've selected the following columns as relevant in the context of our research question and hypothesis.\n",
        "\n",
        "1. **ID** serves as the unique identifier to the tweet.\n",
        "2. **Account Handle** makes it easier to determine which user the tweet to.\n",
        "3. **Account type** helps us identify whether the fake news is spread by a known personality.\n",
        "4. **Joined** allows us to identify if the account was created around the same time as the NTF-ELCAC statement.\n",
        "5. **Tweet** contains the tweet itself. It will be used for the NLP section later on.\n",
        "6. **Tweet Type** allows us to identify the most common types of tweets that were posted depending on the time or date.\n",
        "7. **Date posted** helps us gauge the timeframe it was posted in relation to the NTF-ELCAC statement.\n",
        "8. **Content type** enables us to determine the types of content utilized in the tweets within the specific timeframe we're looking into.\n",
        "9. **Likes, Replies, Retweets, Quote Tweets** enable us to compute the total reach and engagements of the tweets.\n",
        "\n",
        "The other columns were removed as they're either extraneous information(i.e. Timestamp, Tweet URL, Account bio) or empty columns(i.e. Tweet Translated, Views). From these remaining columns, the primary feature we will use to answer the research question is *Date posted*."
      ]
    },
    {
      "cell_type": "code",
      "execution_count": 200,
      "metadata": {},
      "outputs": [
        {
          "data": {
            "text/html": [
              "<div>\n",
              "<style scoped>\n",
              "    .dataframe tbody tr th:only-of-type {\n",
              "        vertical-align: middle;\n",
              "    }\n",
              "\n",
              "    .dataframe tbody tr th {\n",
              "        vertical-align: top;\n",
              "    }\n",
              "\n",
              "    .dataframe thead th {\n",
              "        text-align: right;\n",
              "    }\n",
              "</style>\n",
              "<table border=\"1\" class=\"dataframe\">\n",
              "  <thead>\n",
              "    <tr style=\"text-align: right;\">\n",
              "      <th></th>\n",
              "      <th>Account type</th>\n",
              "      <th>Account handle</th>\n",
              "      <th>Joined</th>\n",
              "      <th>Tweet</th>\n",
              "      <th>Tweet Type</th>\n",
              "      <th>Date posted</th>\n",
              "      <th>Content type</th>\n",
              "      <th>Likes</th>\n",
              "      <th>Replies</th>\n",
              "      <th>Retweets</th>\n",
              "      <th>Quote Tweets</th>\n",
              "    </tr>\n",
              "    <tr>\n",
              "      <th>ID</th>\n",
              "      <th></th>\n",
              "      <th></th>\n",
              "      <th></th>\n",
              "      <th></th>\n",
              "      <th></th>\n",
              "      <th></th>\n",
              "      <th></th>\n",
              "      <th></th>\n",
              "      <th></th>\n",
              "      <th></th>\n",
              "      <th></th>\n",
              "    </tr>\n",
              "  </thead>\n",
              "  <tbody>\n",
              "    <tr>\n",
              "      <th>56-1</th>\n",
              "      <td>Anonymous</td>\n",
              "      <td>@eto_tome</td>\n",
              "      <td>12/11</td>\n",
              "      <td>@Moneyma78808638 Communist pantry na puro kamo...</td>\n",
              "      <td>Text, Reply</td>\n",
              "      <td>17/11/22 07:01</td>\n",
              "      <td>Emotional</td>\n",
              "      <td>1</td>\n",
              "      <td>0</td>\n",
              "      <td>0</td>\n",
              "      <td>0</td>\n",
              "    </tr>\n",
              "    <tr>\n",
              "      <th>56-2</th>\n",
              "      <td>Anonymous</td>\n",
              "      <td>@gon_bmt216a</td>\n",
              "      <td>05/21</td>\n",
              "      <td>@Scarlet87983415 @_miggypot29 Parang yon sa co...</td>\n",
              "      <td>Text, Reply</td>\n",
              "      <td>18/11/22 13:37</td>\n",
              "      <td>Emotional</td>\n",
              "      <td>1</td>\n",
              "      <td>0</td>\n",
              "      <td>0</td>\n",
              "      <td>0</td>\n",
              "    </tr>\n",
              "    <tr>\n",
              "      <th>56-3</th>\n",
              "      <td>Anonymous</td>\n",
              "      <td>@si_ich_ivi</td>\n",
              "      <td>09/21</td>\n",
              "      <td>Communist Pantry na naman? Di na papatol yan. ...</td>\n",
              "      <td>Text, Reply</td>\n",
              "      <td>27/09/22 08:28</td>\n",
              "      <td>Rational</td>\n",
              "      <td>0</td>\n",
              "      <td>0</td>\n",
              "      <td>0</td>\n",
              "      <td>0</td>\n",
              "    </tr>\n",
              "    <tr>\n",
              "      <th>56-4</th>\n",
              "      <td>Anonymous</td>\n",
              "      <td>@si_ich_ivi</td>\n",
              "      <td>09/21</td>\n",
              "      <td>@nick_nangit Walang pinagkaiba sa communist pa...</td>\n",
              "      <td>Text, Reply</td>\n",
              "      <td>22/08/22 18:06</td>\n",
              "      <td>Rational</td>\n",
              "      <td>2</td>\n",
              "      <td>0</td>\n",
              "      <td>0</td>\n",
              "      <td>0</td>\n",
              "    </tr>\n",
              "    <tr>\n",
              "      <th>56-5</th>\n",
              "      <td>Anonymous</td>\n",
              "      <td>@gon_bmt216a</td>\n",
              "      <td>05/21</td>\n",
              "      <td>@Jjcruz2 @iamwhatiam300 Yon birthday communist...</td>\n",
              "      <td>Text, Reply</td>\n",
              "      <td>16/07/22 16:26</td>\n",
              "      <td>Emotional</td>\n",
              "      <td>2</td>\n",
              "      <td>0</td>\n",
              "      <td>0</td>\n",
              "      <td>0</td>\n",
              "    </tr>\n",
              "    <tr>\n",
              "      <th>...</th>\n",
              "      <td>...</td>\n",
              "      <td>...</td>\n",
              "      <td>...</td>\n",
              "      <td>...</td>\n",
              "      <td>...</td>\n",
              "      <td>...</td>\n",
              "      <td>...</td>\n",
              "      <td>...</td>\n",
              "      <td>...</td>\n",
              "      <td>...</td>\n",
              "      <td>...</td>\n",
              "    </tr>\n",
              "    <tr>\n",
              "      <th>56-148</th>\n",
              "      <td>Anonymous</td>\n",
              "      <td>@gigaigurlmd</td>\n",
              "      <td>02/20</td>\n",
              "      <td>\"Trailblazed community pantry in the country\"?...</td>\n",
              "      <td>Text, Reply</td>\n",
              "      <td>03/08/21 20:41</td>\n",
              "      <td>Emotional</td>\n",
              "      <td>0</td>\n",
              "      <td>0</td>\n",
              "      <td>0</td>\n",
              "      <td>0</td>\n",
              "    </tr>\n",
              "    <tr>\n",
              "      <th>56-149</th>\n",
              "      <td>Anonymous</td>\n",
              "      <td>@christo48610396</td>\n",
              "      <td>12/19</td>\n",
              "      <td>Grabe tlga si DUTERTE!! Pinagipunan yan ng mga...</td>\n",
              "      <td>Text, Reply</td>\n",
              "      <td>12/10/21 11:21</td>\n",
              "      <td>Emotional</td>\n",
              "      <td>0</td>\n",
              "      <td>0</td>\n",
              "      <td>0</td>\n",
              "      <td>0</td>\n",
              "    </tr>\n",
              "    <tr>\n",
              "      <th>56-150</th>\n",
              "      <td>Anonymous</td>\n",
              "      <td>@63TheRenegade</td>\n",
              "      <td>06/17</td>\n",
              "      <td>The community pantry episode was an attempt to...</td>\n",
              "      <td>Text, Reply</td>\n",
              "      <td>25/05/22 07:10</td>\n",
              "      <td>Rational</td>\n",
              "      <td>3</td>\n",
              "      <td>1</td>\n",
              "      <td>1</td>\n",
              "      <td>0</td>\n",
              "    </tr>\n",
              "    <tr>\n",
              "      <th>56-151</th>\n",
              "      <td>Anonymous</td>\n",
              "      <td>@Natans_Lover</td>\n",
              "      <td>05/19</td>\n",
              "      <td>Is it me or community pantry was just NPA's sh...</td>\n",
              "      <td>Text</td>\n",
              "      <td>21/05/22 21:00</td>\n",
              "      <td>Emotional</td>\n",
              "      <td>10</td>\n",
              "      <td>1</td>\n",
              "      <td>0</td>\n",
              "      <td>0</td>\n",
              "    </tr>\n",
              "    <tr>\n",
              "      <th>56-152</th>\n",
              "      <td>Anonymous</td>\n",
              "      <td>@gigaigurlmd</td>\n",
              "      <td>02/20</td>\n",
              "      <td>Remember the Community Pantry sa Katipunan? Gi...</td>\n",
              "      <td>Text, Reply</td>\n",
              "      <td>12/05/22 02:01</td>\n",
              "      <td>Rational</td>\n",
              "      <td>3</td>\n",
              "      <td>1</td>\n",
              "      <td>0</td>\n",
              "      <td>0</td>\n",
              "    </tr>\n",
              "  </tbody>\n",
              "</table>\n",
              "<p>152 rows × 11 columns</p>\n",
              "</div>"
            ],
            "text/plain": [
              "       Account type    Account handle Joined  \\\n",
              "ID                                             \n",
              "56-1      Anonymous         @eto_tome  12/11   \n",
              "56-2      Anonymous      @gon_bmt216a  05/21   \n",
              "56-3      Anonymous       @si_ich_ivi  09/21   \n",
              "56-4      Anonymous       @si_ich_ivi  09/21   \n",
              "56-5      Anonymous      @gon_bmt216a  05/21   \n",
              "...             ...               ...    ...   \n",
              "56-148    Anonymous      @gigaigurlmd  02/20   \n",
              "56-149    Anonymous  @christo48610396  12/19   \n",
              "56-150    Anonymous    @63TheRenegade  06/17   \n",
              "56-151    Anonymous     @Natans_Lover  05/19   \n",
              "56-152    Anonymous      @gigaigurlmd  02/20   \n",
              "\n",
              "                                                    Tweet   Tweet Type  \\\n",
              "ID                                                                       \n",
              "56-1    @Moneyma78808638 Communist pantry na puro kamo...  Text, Reply   \n",
              "56-2    @Scarlet87983415 @_miggypot29 Parang yon sa co...  Text, Reply   \n",
              "56-3    Communist Pantry na naman? Di na papatol yan. ...  Text, Reply   \n",
              "56-4    @nick_nangit Walang pinagkaiba sa communist pa...  Text, Reply   \n",
              "56-5    @Jjcruz2 @iamwhatiam300 Yon birthday communist...  Text, Reply   \n",
              "...                                                   ...          ...   \n",
              "56-148  \"Trailblazed community pantry in the country\"?...  Text, Reply   \n",
              "56-149  Grabe tlga si DUTERTE!! Pinagipunan yan ng mga...  Text, Reply   \n",
              "56-150  The community pantry episode was an attempt to...  Text, Reply   \n",
              "56-151  Is it me or community pantry was just NPA's sh...         Text   \n",
              "56-152  Remember the Community Pantry sa Katipunan? Gi...  Text, Reply   \n",
              "\n",
              "           Date posted Content type  Likes  Replies  Retweets  Quote Tweets  \n",
              "ID                                                                           \n",
              "56-1    17/11/22 07:01    Emotional      1        0         0             0  \n",
              "56-2    18/11/22 13:37    Emotional      1        0         0             0  \n",
              "56-3    27/09/22 08:28     Rational      0        0         0             0  \n",
              "56-4    22/08/22 18:06     Rational      2        0         0             0  \n",
              "56-5    16/07/22 16:26    Emotional      2        0         0             0  \n",
              "...                ...          ...    ...      ...       ...           ...  \n",
              "56-148  03/08/21 20:41    Emotional      0        0         0             0  \n",
              "56-149  12/10/21 11:21    Emotional      0        0         0             0  \n",
              "56-150  25/05/22 07:10     Rational      3        1         1             0  \n",
              "56-151  21/05/22 21:00    Emotional     10        1         0             0  \n",
              "56-152  12/05/22 02:01     Rational      3        1         0             0  \n",
              "\n",
              "[152 rows x 11 columns]"
            ]
          },
          "execution_count": 200,
          "metadata": {},
          "output_type": "execute_result"
        }
      ],
      "source": [
        "included_cols = ['ID','Account type','Account handle','Joined','Tweet','Tweet Type','Date posted','Content type','Likes','Replies','Retweets','Quote Tweets'] \n",
        "df_trim = df[included_cols].copy(deep=True)\n",
        "df_trim.set_index('ID')"
      ]
    },
    {
      "attachments": {},
      "cell_type": "markdown",
      "metadata": {},
      "source": [
        "This brings our number of columns down to 12. Now that we've removed the extra columns. We once again display the general information of the trimmed dataframe for clarity."
      ]
    },
    {
      "cell_type": "code",
      "execution_count": 201,
      "metadata": {},
      "outputs": [
        {
          "name": "stdout",
          "output_type": "stream",
          "text": [
            "========================================\n",
            "Dataframe shape: (152, 12)\n",
            "========================================\n",
            "Number of columns: 12\n",
            "Columns: ['ID', 'Account type', 'Account handle', 'Joined', 'Tweet', 'Tweet Type', 'Date posted', 'Content type', 'Likes', 'Replies', 'Retweets', 'Quote Tweets']\n",
            "========================================\n",
            "ID                0\n",
            "Account type      0\n",
            "Account handle    0\n",
            "Joined            0\n",
            "Tweet             0\n",
            "Tweet Type        0\n",
            "Date posted       0\n",
            "Content type      0\n",
            "Likes             0\n",
            "Replies           0\n",
            "Retweets          0\n",
            "Quote Tweets      0\n",
            "dtype: int64\n",
            "Columns with missing values []\n",
            "========================================\n",
            "Data types per column:\n",
            "ID : [<class 'str'>]\n",
            "Account type : [<class 'str'>]\n",
            "Account handle : [<class 'str'>]\n",
            "Joined : [<class 'str'>]\n",
            "Tweet : [<class 'str'>]\n",
            "Tweet Type : [<class 'str'>]\n",
            "Date posted : [<class 'str'>]\n",
            "Content type : [<class 'str'>]\n",
            "Likes : [<class 'int'>]\n",
            "Replies : [<class 'int'>]\n",
            "Retweets : [<class 'int'>]\n",
            "Quote Tweets : [<class 'int'>]\n",
            "========================================\n",
            "Range of values per numeric column:\n",
            "     Likes  Replies  Retweets  Quote Tweets\n",
            "min    0.0      0.0       0.0           0.0\n",
            "max  912.0     76.0     125.0          17.0\n",
            "========================================\n"
          ]
        }
      ],
      "source": [
        "#What is the size/shape of the dataset?\n",
        "print(\"=\"*40)\n",
        "print(\"Dataframe shape:\",df_trim.shape)\n",
        "#How many columns are there in the dataset?\n",
        "print(\"=\"*40)\n",
        "print(\"Number of columns:\",df_trim.shape[1])\n",
        "print(\"Columns:\",df_trim.columns.to_list())\n",
        "#Are there any missing values in the dataset? If so, how many and in which columns?\n",
        "print(\"=\"*40)\n",
        "print(df_trim.isnull().sum())\n",
        "print(\"Columns with missing values\", df_trim.columns[df_trim.isna().any()].tolist())\n",
        "#What is the data type of each column?\n",
        "print(\"=\"*40)\n",
        "print(\"Data types per column:\")\n",
        "for col in df_trim.columns:\n",
        "  print(col,\":\",df_trim[col].map(type).unique())\n",
        "#What is the range of values for each numeric column in the dataset?\n",
        "print(\"=\"*40)\n",
        "print(\"Range of values per numeric column:\")\n",
        "print(df_trim.describe().loc[['min', 'max']])\n",
        "print(\"=\"*40)"
      ]
    },
    {
      "attachments": {},
      "cell_type": "markdown",
      "metadata": {},
      "source": [
        "**Handling missing values/ensuring no missing values**"
      ]
    },
    {
      "cell_type": "code",
      "execution_count": 202,
      "metadata": {},
      "outputs": [
        {
          "name": "stdout",
          "output_type": "stream",
          "text": [
            "ID                0\n",
            "Account type      0\n",
            "Account handle    0\n",
            "Joined            0\n",
            "Tweet             0\n",
            "Tweet Type        0\n",
            "Date posted       0\n",
            "Content type      0\n",
            "Likes             0\n",
            "Replies           0\n",
            "Retweets          0\n",
            "Quote Tweets      0\n",
            "dtype: int64\n",
            "Columns with missing values []\n"
          ]
        }
      ],
      "source": [
        "print(df_trim.isnull().sum())\n",
        "print(\"Columns with missing values\", df_trim.columns[df_trim.isna().any()].tolist())"
      ]
    },
    {
      "attachments": {},
      "cell_type": "markdown",
      "metadata": {},
      "source": [
        "Notice the presence of empty values when we displayed the general information for the initial dataset df. This time however, since all of the columns containing empty values were also removed from df_trim, there are no missing values that we need to handle."
      ]
    },
    {
      "attachments": {},
      "cell_type": "markdown",
      "metadata": {},
      "source": [
        "**Ensuring formatting consistency (date, labels, etc.)**"
      ]
    },
    {
      "attachments": {},
      "cell_type": "markdown",
      "metadata": {},
      "source": [
        "To ensure consistent labeling, we will be making a minor change to the *Tweet Type* and *Quote Tweets* columns such that their second word is also in lowercase."
      ]
    },
    {
      "cell_type": "code",
      "execution_count": 203,
      "metadata": {},
      "outputs": [
        {
          "name": "stdout",
          "output_type": "stream",
          "text": [
            "Index(['ID', 'Account type', 'Account handle', 'Joined', 'Tweet', 'Tweet type',\n",
            "       'Date posted', 'Content type', 'Likes', 'Replies', 'Retweets',\n",
            "       'Quote tweets'],\n",
            "      dtype='object')\n"
          ]
        }
      ],
      "source": [
        "df_trim = df_trim.rename(columns={'Tweet Type': 'Tweet type','Quote Tweets': 'Quote tweets'})\n",
        "print(df_trim.columns)"
      ]
    },
    {
      "attachments": {},
      "cell_type": "markdown",
      "metadata": {},
      "source": [
        "Since our date columns, *Date posted* and *Joined*, are imported as type *string*, we will be converting both of them into *datetime* instead. Although not necessary, we will also be converting *Account type*, *Content type*, and *Tweet type* into *category* types."
      ]
    },
    {
      "cell_type": "code",
      "execution_count": 204,
      "metadata": {},
      "outputs": [
        {
          "name": "stdout",
          "output_type": "stream",
          "text": [
            "Recent dates:\n",
            " False    152\n",
            "Name: Date posted, dtype: int64 \n",
            "\n",
            "ID                        object\n",
            "Account type            category\n",
            "Account handle            object\n",
            "Joined            datetime64[ns]\n",
            "Tweet                     object\n",
            "Tweet type              category\n",
            "Date posted       datetime64[ns]\n",
            "Content type            category\n",
            "Likes                      int64\n",
            "Replies                    int64\n",
            "Retweets                   int64\n",
            "Quote tweets               int64\n",
            "dtype: object\n"
          ]
        }
      ],
      "source": [
        "\n",
        "pd.set_option(\"display.max_columns\", df_trim.shape[1])\n",
        "#Convert Date posted into datetime\n",
        "df_trim['Date posted'] = pd.to_datetime(df_trim['Date posted'], format=\"%d/%m/%y %H:%M\")\n",
        "\n",
        "#Check for dates outside scope\n",
        "Recent_dates = df_trim['Date posted'].map(lambda x: True if (x.year<2016 or x.year > 2022) else False)\n",
        "print(\"Recent dates:\\n\",Recent_dates.value_counts(),\"\\n\") #All false so no recent tweets\n",
        "\n",
        "#Convert Joined into datetime\n",
        "df_trim['Joined'] = pd.to_datetime(df_trim['Joined'],format='%m/%y')\n",
        "\n",
        "#Convert Account type into category\n",
        "df_trim['Account type'] = df_trim['Account type'].astype('category')\n",
        "\n",
        "#Convert Tweet type into category\n",
        "df_trim['Tweet type'] = df_trim['Tweet type'].astype('category')\n",
        "\n",
        "#Convert Content type into category\n",
        "df_trim['Content type'] = df_trim['Content type'].astype('category')\n",
        "\n",
        "print(df_trim.dtypes) "
      ]
    },
    {
      "attachments": {},
      "cell_type": "markdown",
      "metadata": {},
      "source": [
        "We performed an additional check to identify any tweets that were posted before 2016 or after 2022. Since all the tweets in this check had a value of false, then the dates are all within scope. It is important to mention that the other columns in *df_trim* were already manually formatted prior to importing. Therefore, they contain only a single appropriate data type and no formatting changes are needed for these columns. "
      ]
    },
    {
      "attachments": {},
      "cell_type": "markdown",
      "metadata": {},
      "source": [
        "**Normalization/standardization/scaling and Handling outliers**"
      ]
    },
    {
      "cell_type": "code",
      "execution_count": 205,
      "metadata": {},
      "outputs": [
        {
          "data": {
            "text/html": [
              "<div>\n",
              "<style scoped>\n",
              "    .dataframe tbody tr th:only-of-type {\n",
              "        vertical-align: middle;\n",
              "    }\n",
              "\n",
              "    .dataframe tbody tr th {\n",
              "        vertical-align: top;\n",
              "    }\n",
              "\n",
              "    .dataframe thead th {\n",
              "        text-align: right;\n",
              "    }\n",
              "</style>\n",
              "<table border=\"1\" class=\"dataframe\">\n",
              "  <thead>\n",
              "    <tr style=\"text-align: right;\">\n",
              "      <th></th>\n",
              "      <th>Likes</th>\n",
              "      <th>Replies</th>\n",
              "      <th>Retweets</th>\n",
              "      <th>Quote tweets</th>\n",
              "    </tr>\n",
              "  </thead>\n",
              "  <tbody>\n",
              "    <tr>\n",
              "      <th>count</th>\n",
              "      <td>152.000000</td>\n",
              "      <td>152.000000</td>\n",
              "      <td>152.000000</td>\n",
              "      <td>152.000000</td>\n",
              "    </tr>\n",
              "    <tr>\n",
              "      <th>mean</th>\n",
              "      <td>15.493421</td>\n",
              "      <td>1.000000</td>\n",
              "      <td>2.736842</td>\n",
              "      <td>0.289474</td>\n",
              "    </tr>\n",
              "    <tr>\n",
              "      <th>std</th>\n",
              "      <td>83.830086</td>\n",
              "      <td>6.314076</td>\n",
              "      <td>12.971562</td>\n",
              "      <td>1.617911</td>\n",
              "    </tr>\n",
              "    <tr>\n",
              "      <th>min</th>\n",
              "      <td>0.000000</td>\n",
              "      <td>0.000000</td>\n",
              "      <td>0.000000</td>\n",
              "      <td>0.000000</td>\n",
              "    </tr>\n",
              "    <tr>\n",
              "      <th>25%</th>\n",
              "      <td>0.000000</td>\n",
              "      <td>0.000000</td>\n",
              "      <td>0.000000</td>\n",
              "      <td>0.000000</td>\n",
              "    </tr>\n",
              "    <tr>\n",
              "      <th>50%</th>\n",
              "      <td>1.000000</td>\n",
              "      <td>0.000000</td>\n",
              "      <td>0.000000</td>\n",
              "      <td>0.000000</td>\n",
              "    </tr>\n",
              "    <tr>\n",
              "      <th>75%</th>\n",
              "      <td>3.250000</td>\n",
              "      <td>0.250000</td>\n",
              "      <td>0.000000</td>\n",
              "      <td>0.000000</td>\n",
              "    </tr>\n",
              "    <tr>\n",
              "      <th>max</th>\n",
              "      <td>912.000000</td>\n",
              "      <td>76.000000</td>\n",
              "      <td>125.000000</td>\n",
              "      <td>17.000000</td>\n",
              "    </tr>\n",
              "  </tbody>\n",
              "</table>\n",
              "</div>"
            ],
            "text/plain": [
              "            Likes     Replies    Retweets  Quote tweets\n",
              "count  152.000000  152.000000  152.000000    152.000000\n",
              "mean    15.493421    1.000000    2.736842      0.289474\n",
              "std     83.830086    6.314076   12.971562      1.617911\n",
              "min      0.000000    0.000000    0.000000      0.000000\n",
              "25%      0.000000    0.000000    0.000000      0.000000\n",
              "50%      1.000000    0.000000    0.000000      0.000000\n",
              "75%      3.250000    0.250000    0.000000      0.000000\n",
              "max    912.000000   76.000000  125.000000     17.000000"
            ]
          },
          "execution_count": 205,
          "metadata": {},
          "output_type": "execute_result"
        }
      ],
      "source": [
        "df_trim.describe()"
      ]
    },
    {
      "attachments": {},
      "cell_type": "markdown",
      "metadata": {},
      "source": [
        "From this table, it is evident that the only columns which contain numerical values are Likes, Replies, Retweets, and Quote Tweets. However, since our focus is on the number of tweets and the date they are posted, there is no need to scale and remove outliers based on the Likes, Replies, Retweets, or Quote Tweets of each tweet."
      ]
    },
    {
      "attachments": {},
      "cell_type": "markdown",
      "metadata": {},
      "source": [
        "**Categorical data encoding**\n",
        "\n",
        "The only categorical columns we will need to consider are *Account type*,*Content type*, and *Tweet type*. Since both of these categories are not ordinal, we can implemenent one-hot encoding on them. Note the abscence of the *Media* value under *Account type*. We'll be using MultiLabelBinarizer to one-hot encode *Tweet type* and *Content type* as each tweet can be labelled with multiple values from the category."
      ]
    },
    {
      "cell_type": "code",
      "execution_count": 206,
      "metadata": {},
      "outputs": [
        {
          "name": "stdout",
          "output_type": "stream",
          "text": [
            "========== Unique contents of Tweet type ==========\n",
            "Text, Reply\n",
            "Text, Image\n",
            "Text, Reply, Image\n",
            "Text\n",
            "Text, URL\n",
            "Text, Video\n",
            "Text, Image, Reply\n",
            "Text, URL, Image\n",
            "Image, Reply\n",
            "========= Unique contents of Account type =========\n",
            "Anonymous\n",
            "Identified\n",
            "========= Unique contents of Content type =========\n",
            "Emotional\n",
            "Rational\n",
            "Rational, Emotional\n",
            "Transactional\n",
            "Emotional, Rational\n",
            "===================================================\n"
          ]
        },
        {
          "data": {
            "text/html": [
              "<div>\n",
              "<style scoped>\n",
              "    .dataframe tbody tr th:only-of-type {\n",
              "        vertical-align: middle;\n",
              "    }\n",
              "\n",
              "    .dataframe tbody tr th {\n",
              "        vertical-align: top;\n",
              "    }\n",
              "\n",
              "    .dataframe thead th {\n",
              "        text-align: right;\n",
              "    }\n",
              "</style>\n",
              "<table border=\"1\" class=\"dataframe\">\n",
              "  <thead>\n",
              "    <tr style=\"text-align: right;\">\n",
              "      <th></th>\n",
              "      <th>ID</th>\n",
              "      <th>Account handle</th>\n",
              "      <th>Joined</th>\n",
              "      <th>Tweet</th>\n",
              "      <th>Date posted</th>\n",
              "      <th>Likes</th>\n",
              "      <th>Replies</th>\n",
              "      <th>Retweets</th>\n",
              "      <th>Quote tweets</th>\n",
              "      <th>Image</th>\n",
              "      <th>Reply</th>\n",
              "      <th>Text</th>\n",
              "      <th>URL</th>\n",
              "      <th>Video</th>\n",
              "      <th>Anonymous</th>\n",
              "      <th>Identified</th>\n",
              "      <th>Emotional</th>\n",
              "      <th>Rational</th>\n",
              "      <th>Transactional</th>\n",
              "    </tr>\n",
              "  </thead>\n",
              "  <tbody>\n",
              "    <tr>\n",
              "      <th>0</th>\n",
              "      <td>56-1</td>\n",
              "      <td>@eto_tome</td>\n",
              "      <td>2011-12-01</td>\n",
              "      <td>@Moneyma78808638 Communist pantry na puro kamo...</td>\n",
              "      <td>2022-11-17 07:01:00</td>\n",
              "      <td>1</td>\n",
              "      <td>0</td>\n",
              "      <td>0</td>\n",
              "      <td>0</td>\n",
              "      <td>0</td>\n",
              "      <td>1</td>\n",
              "      <td>1</td>\n",
              "      <td>0</td>\n",
              "      <td>0</td>\n",
              "      <td>1</td>\n",
              "      <td>0</td>\n",
              "      <td>1</td>\n",
              "      <td>0</td>\n",
              "      <td>0</td>\n",
              "    </tr>\n",
              "    <tr>\n",
              "      <th>1</th>\n",
              "      <td>56-2</td>\n",
              "      <td>@gon_bmt216a</td>\n",
              "      <td>2021-05-01</td>\n",
              "      <td>@Scarlet87983415 @_miggypot29 Parang yon sa co...</td>\n",
              "      <td>2022-11-18 13:37:00</td>\n",
              "      <td>1</td>\n",
              "      <td>0</td>\n",
              "      <td>0</td>\n",
              "      <td>0</td>\n",
              "      <td>0</td>\n",
              "      <td>1</td>\n",
              "      <td>1</td>\n",
              "      <td>0</td>\n",
              "      <td>0</td>\n",
              "      <td>1</td>\n",
              "      <td>0</td>\n",
              "      <td>1</td>\n",
              "      <td>0</td>\n",
              "      <td>0</td>\n",
              "    </tr>\n",
              "    <tr>\n",
              "      <th>2</th>\n",
              "      <td>56-3</td>\n",
              "      <td>@si_ich_ivi</td>\n",
              "      <td>2021-09-01</td>\n",
              "      <td>Communist Pantry na naman? Di na papatol yan. ...</td>\n",
              "      <td>2022-09-27 08:28:00</td>\n",
              "      <td>0</td>\n",
              "      <td>0</td>\n",
              "      <td>0</td>\n",
              "      <td>0</td>\n",
              "      <td>0</td>\n",
              "      <td>1</td>\n",
              "      <td>1</td>\n",
              "      <td>0</td>\n",
              "      <td>0</td>\n",
              "      <td>1</td>\n",
              "      <td>0</td>\n",
              "      <td>0</td>\n",
              "      <td>1</td>\n",
              "      <td>0</td>\n",
              "    </tr>\n",
              "    <tr>\n",
              "      <th>3</th>\n",
              "      <td>56-4</td>\n",
              "      <td>@si_ich_ivi</td>\n",
              "      <td>2021-09-01</td>\n",
              "      <td>@nick_nangit Walang pinagkaiba sa communist pa...</td>\n",
              "      <td>2022-08-22 18:06:00</td>\n",
              "      <td>2</td>\n",
              "      <td>0</td>\n",
              "      <td>0</td>\n",
              "      <td>0</td>\n",
              "      <td>0</td>\n",
              "      <td>1</td>\n",
              "      <td>1</td>\n",
              "      <td>0</td>\n",
              "      <td>0</td>\n",
              "      <td>1</td>\n",
              "      <td>0</td>\n",
              "      <td>0</td>\n",
              "      <td>1</td>\n",
              "      <td>0</td>\n",
              "    </tr>\n",
              "    <tr>\n",
              "      <th>4</th>\n",
              "      <td>56-5</td>\n",
              "      <td>@gon_bmt216a</td>\n",
              "      <td>2021-05-01</td>\n",
              "      <td>@Jjcruz2 @iamwhatiam300 Yon birthday communist...</td>\n",
              "      <td>2022-07-16 16:26:00</td>\n",
              "      <td>2</td>\n",
              "      <td>0</td>\n",
              "      <td>0</td>\n",
              "      <td>0</td>\n",
              "      <td>0</td>\n",
              "      <td>1</td>\n",
              "      <td>1</td>\n",
              "      <td>0</td>\n",
              "      <td>0</td>\n",
              "      <td>1</td>\n",
              "      <td>0</td>\n",
              "      <td>1</td>\n",
              "      <td>0</td>\n",
              "      <td>0</td>\n",
              "    </tr>\n",
              "  </tbody>\n",
              "</table>\n",
              "</div>"
            ],
            "text/plain": [
              "     ID Account handle     Joined  \\\n",
              "0  56-1      @eto_tome 2011-12-01   \n",
              "1  56-2   @gon_bmt216a 2021-05-01   \n",
              "2  56-3    @si_ich_ivi 2021-09-01   \n",
              "3  56-4    @si_ich_ivi 2021-09-01   \n",
              "4  56-5   @gon_bmt216a 2021-05-01   \n",
              "\n",
              "                                               Tweet         Date posted  \\\n",
              "0  @Moneyma78808638 Communist pantry na puro kamo... 2022-11-17 07:01:00   \n",
              "1  @Scarlet87983415 @_miggypot29 Parang yon sa co... 2022-11-18 13:37:00   \n",
              "2  Communist Pantry na naman? Di na papatol yan. ... 2022-09-27 08:28:00   \n",
              "3  @nick_nangit Walang pinagkaiba sa communist pa... 2022-08-22 18:06:00   \n",
              "4  @Jjcruz2 @iamwhatiam300 Yon birthday communist... 2022-07-16 16:26:00   \n",
              "\n",
              "   Likes  Replies  Retweets  Quote tweets  Image  Reply  Text  URL  Video  \\\n",
              "0      1        0         0             0      0      1     1    0      0   \n",
              "1      1        0         0             0      0      1     1    0      0   \n",
              "2      0        0         0             0      0      1     1    0      0   \n",
              "3      2        0         0             0      0      1     1    0      0   \n",
              "4      2        0         0             0      0      1     1    0      0   \n",
              "\n",
              "   Anonymous  Identified  Emotional  Rational  Transactional  \n",
              "0          1           0          1         0              0  \n",
              "1          1           0          1         0              0  \n",
              "2          1           0          0         1              0  \n",
              "3          1           0          0         1              0  \n",
              "4          1           0          1         0              0  "
            ]
          },
          "execution_count": 206,
          "metadata": {},
          "output_type": "execute_result"
        }
      ],
      "source": [
        "from sklearn.preprocessing import MultiLabelBinarizer\n",
        "mlb = MultiLabelBinarizer()\n",
        "\n",
        "df_encoded = df_trim.copy(deep=True)\n",
        "\n",
        "#Print unique values of the three columns\n",
        "print(\"=\"*10,\"Unique contents of Tweet type\",\"=\"*10)\n",
        "for i in df_encoded['Tweet type'].unique():\n",
        "    print(i)\n",
        "print(\"=\"*9,\"Unique contents of Account type\",\"=\"*9)\n",
        "for i in df_encoded['Account type'].unique():\n",
        "    print(i)\n",
        "print(\"=\"*9,\"Unique contents of Content type\",\"=\"*9)\n",
        "for i in df_encoded['Content type'].unique():\n",
        "    print(i)\n",
        "print(\"=\"*51)\n",
        "\n",
        "#One-hot encode the three columns\n",
        "df_encoded['Tweet type'] = df_encoded['Tweet type'].str.split(', ')\n",
        "tweet_encoded = pd.DataFrame(mlb.fit_transform(df_encoded['Tweet type']), columns=mlb.classes_)\n",
        "df_encoded = pd.concat([df_encoded, tweet_encoded], axis=1)\n",
        "\n",
        "account_encoded = pd.get_dummies(df_encoded['Account type'])\n",
        "df_encoded = pd.concat([df_encoded, account_encoded], axis=1)\n",
        "\n",
        "df_encoded['Content type'] = df_encoded['Content type'].str.split(', ')\n",
        "content_encoded = pd.DataFrame(mlb.fit_transform(df_encoded['Content type']), columns=mlb.classes_)\n",
        "df_encoded = pd.concat([df_encoded, content_encoded], axis=1)\n",
        "\n",
        "#Drop the three columns used\n",
        "df_encoded = df_encoded.drop(['Content type','Tweet type','Account type'], axis=1)\n",
        "\n",
        "pd.set_option(\"display.max_columns\", df_encoded.shape[1])\n",
        "df_encoded.set_index('ID')\n",
        "df_encoded.head()\n"
      ]
    },
    {
      "attachments": {},
      "cell_type": "markdown",
      "metadata": {},
      "source": [
        "### **Natural Language Processing**"
      ]
    },
    {
      "attachments": {},
      "cell_type": "markdown",
      "metadata": {},
      "source": [
        "The code found in this section is a modified version of the code in **Basics - NLP.ipynb**. As our project is focused on time series analysis, the results of the NLP are inconsequential in answering our research question."
      ]
    },
    {
      "attachments": {},
      "cell_type": "markdown",
      "metadata": {},
      "source": [
        "**Data Cleaning**"
      ]
    },
    {
      "attachments": {},
      "cell_type": "markdown",
      "metadata": {},
      "source": [
        "In this section, we'll be transforming the emojis and emoticons present in the tweet into text form, turn each word into lowercase for consistency, and remove punctation marks from the text."
      ]
    },
    {
      "cell_type": "code",
      "execution_count": 207,
      "metadata": {},
      "outputs": [
        {
          "data": {
            "text/html": [
              "<div>\n",
              "<style scoped>\n",
              "    .dataframe tbody tr th:only-of-type {\n",
              "        vertical-align: middle;\n",
              "    }\n",
              "\n",
              "    .dataframe tbody tr th {\n",
              "        vertical-align: top;\n",
              "    }\n",
              "\n",
              "    .dataframe thead th {\n",
              "        text-align: right;\n",
              "    }\n",
              "</style>\n",
              "<table border=\"1\" class=\"dataframe\">\n",
              "  <thead>\n",
              "    <tr style=\"text-align: right;\">\n",
              "      <th></th>\n",
              "      <th>Original</th>\n",
              "      <th>Without Emotes</th>\n",
              "    </tr>\n",
              "  </thead>\n",
              "  <tbody>\n",
              "    <tr>\n",
              "      <th>0</th>\n",
              "      <td>@Moneyma78808638 Communist pantry na puro kamo...</td>\n",
              "      <td>moneyma78808638 communist pantry na puro kamot...</td>\n",
              "    </tr>\n",
              "    <tr>\n",
              "      <th>1</th>\n",
              "      <td>@Scarlet87983415 @_miggypot29 Parang yon sa co...</td>\n",
              "      <td>scarlet87983415 miggypot29 parang yon sa commu...</td>\n",
              "    </tr>\n",
              "    <tr>\n",
              "      <th>2</th>\n",
              "      <td>Communist Pantry na naman? Di na papatol yan. ...</td>\n",
              "      <td>communist pantry na naman di na papatol yan la...</td>\n",
              "    </tr>\n",
              "    <tr>\n",
              "      <th>3</th>\n",
              "      <td>@nick_nangit Walang pinagkaiba sa communist pa...</td>\n",
              "      <td>nicknangit walang pinagkaiba sa communist pant...</td>\n",
              "    </tr>\n",
              "    <tr>\n",
              "      <th>4</th>\n",
              "      <td>@Jjcruz2 @iamwhatiam300 Yon birthday communist...</td>\n",
              "      <td>jjcruz2 iamwhatiam300 yon birthday communist p...</td>\n",
              "    </tr>\n",
              "  </tbody>\n",
              "</table>\n",
              "</div>"
            ],
            "text/plain": [
              "                                            Original  \\\n",
              "0  @Moneyma78808638 Communist pantry na puro kamo...   \n",
              "1  @Scarlet87983415 @_miggypot29 Parang yon sa co...   \n",
              "2  Communist Pantry na naman? Di na papatol yan. ...   \n",
              "3  @nick_nangit Walang pinagkaiba sa communist pa...   \n",
              "4  @Jjcruz2 @iamwhatiam300 Yon birthday communist...   \n",
              "\n",
              "                                      Without Emotes  \n",
              "0  moneyma78808638 communist pantry na puro kamot...  \n",
              "1  scarlet87983415 miggypot29 parang yon sa commu...  \n",
              "2  communist pantry na naman di na papatol yan la...  \n",
              "3  nicknangit walang pinagkaiba sa communist pant...  \n",
              "4  jjcruz2 iamwhatiam300 yon birthday communist p...  "
            ]
          },
          "execution_count": 207,
          "metadata": {},
          "output_type": "execute_result"
        }
      ],
      "source": [
        "import re\n",
        "import copy\n",
        "import string\n",
        "\n",
        "# Handle Emojis [2]\n",
        "url_emoji = \"https://drive.google.com/uc?id=1G1vIkkbqPBYPKHcQ8qy0G2zkoab2Qv4v\"\n",
        "df_emoji = pd.read_pickle(url_emoji)\n",
        "df_emoji = {v: k for k, v in df_emoji.items()}\n",
        "\n",
        "def emoji_to_word(text):\n",
        "  for emot in df_emoji:\n",
        "    text = re.sub(r'('+emot+')', \"_\".join(df_emoji[emot].replace(\",\",\"\").replace(\":\",\"\").split()), text)\n",
        "  return text\n",
        "\n",
        "# Handle Emoticons [2]\n",
        "url_emote = \"https://drive.google.com/uc?id=1HDpafp97gCl9xZTQWMgP2kKK_NuhENlE\"\n",
        "df_emote = pd.read_pickle(url_emote)\n",
        "\n",
        "def emote_to_word(text):\n",
        "    for emot in df_emote:\n",
        "        text = re.sub(u'('+emot+')', \"_\".join(df_emote[emot].replace(\",\",\"\").split()), text)\n",
        "        text = text.replace(\"<3\", \"heart\" ) # not included in emoticons database\n",
        "    return text\n",
        "\n",
        "texts = copy.deepcopy(df_encoded['Tweet'].tolist())\n",
        "texts = [emoji_to_word(t) for t in texts]\n",
        "texts = [emote_to_word(t) for t in texts]\n",
        "\n",
        "# convert to lowercase\n",
        "texts = [t.lower() for t in texts]\n",
        "\n",
        "# remove punctuation\n",
        "texts = [t.translate(str.maketrans('', '', string.punctuation)) for t in texts]\n",
        "\n",
        "df_emoji = pd.DataFrame({'Original': df_encoded['Tweet'], 'Without Emotes': texts})\n",
        "df_emoji.style.set_properties(**{'text-align': 'left'})\n",
        "df_emoji.head()"
      ]
    },
    {
      "attachments": {},
      "cell_type": "markdown",
      "metadata": {},
      "source": [
        "**Translation**"
      ]
    },
    {
      "attachments": {},
      "cell_type": "markdown",
      "metadata": {},
      "source": [
        "Next, we make use of Google translate to translate our original text into English as we'll be using English-based NLP in the following sections."
      ]
    },
    {
      "cell_type": "code",
      "execution_count": 208,
      "metadata": {},
      "outputs": [
        {
          "name": "stderr",
          "output_type": "stream",
          "text": [
            "[nltk_data] Downloading package punkt to C:\\Users\\Dale\n",
            "[nltk_data]     Encinares\\AppData\\Roaming\\nltk_data...\n",
            "[nltk_data]   Package punkt is already up-to-date!\n",
            "[nltk_data] Downloading package stopwords to C:\\Users\\Dale\n",
            "[nltk_data]     Encinares\\AppData\\Roaming\\nltk_data...\n",
            "[nltk_data]   Package stopwords is already up-to-date!\n",
            "[nltk_data] Downloading package wordnet to C:\\Users\\Dale\n",
            "[nltk_data]     Encinares\\AppData\\Roaming\\nltk_data...\n",
            "[nltk_data]   Package wordnet is already up-to-date!\n"
          ]
        }
      ],
      "source": [
        "%%capture\n",
        "nltk.download('punkt')\n",
        "nltk.download('stopwords')\n",
        "nltk.download('wordnet')\n",
        "\n",
        "!pip install googletrans==3.1.0a0"
      ]
    },
    {
      "cell_type": "code",
      "execution_count": 209,
      "metadata": {},
      "outputs": [
        {
          "data": {
            "text/html": [
              "<div>\n",
              "<style scoped>\n",
              "    .dataframe tbody tr th:only-of-type {\n",
              "        vertical-align: middle;\n",
              "    }\n",
              "\n",
              "    .dataframe tbody tr th {\n",
              "        vertical-align: top;\n",
              "    }\n",
              "\n",
              "    .dataframe thead th {\n",
              "        text-align: right;\n",
              "    }\n",
              "</style>\n",
              "<table border=\"1\" class=\"dataframe\">\n",
              "  <thead>\n",
              "    <tr style=\"text-align: right;\">\n",
              "      <th></th>\n",
              "      <th>Original</th>\n",
              "      <th>English</th>\n",
              "    </tr>\n",
              "  </thead>\n",
              "  <tbody>\n",
              "    <tr>\n",
              "      <th>0</th>\n",
              "      <td>moneyma78808638 communist pantry na puro kamot...</td>\n",
              "      <td>moneyma78808638 communist pantry that is only ...</td>\n",
              "    </tr>\n",
              "    <tr>\n",
              "      <th>1</th>\n",
              "      <td>scarlet87983415 miggypot29 parang yon sa commu...</td>\n",
              "      <td>scarlet87983415 miggypot29 it's like that in t...</td>\n",
              "    </tr>\n",
              "    <tr>\n",
              "      <th>2</th>\n",
              "      <td>communist pantry na naman di na papatol yan la...</td>\n",
              "      <td>communist pantry again, that won't cut it, esp...</td>\n",
              "    </tr>\n",
              "    <tr>\n",
              "      <th>3</th>\n",
              "      <td>nicknangit walang pinagkaiba sa communist pant...</td>\n",
              "      <td>nick but it's no different from the communist ...</td>\n",
              "    </tr>\n",
              "    <tr>\n",
              "      <th>4</th>\n",
              "      <td>jjcruz2 iamwhatiam300 yon birthday communist p...</td>\n",
              "      <td>jjcruz2 iamwhatiam300 that's angel's birthday ...</td>\n",
              "    </tr>\n",
              "  </tbody>\n",
              "</table>\n",
              "</div>"
            ],
            "text/plain": [
              "                                            Original  \\\n",
              "0  moneyma78808638 communist pantry na puro kamot...   \n",
              "1  scarlet87983415 miggypot29 parang yon sa commu...   \n",
              "2  communist pantry na naman di na papatol yan la...   \n",
              "3  nicknangit walang pinagkaiba sa communist pant...   \n",
              "4  jjcruz2 iamwhatiam300 yon birthday communist p...   \n",
              "\n",
              "                                             English  \n",
              "0  moneyma78808638 communist pantry that is only ...  \n",
              "1  scarlet87983415 miggypot29 it's like that in t...  \n",
              "2  communist pantry again, that won't cut it, esp...  \n",
              "3  nick but it's no different from the communist ...  \n",
              "4  jjcruz2 iamwhatiam300 that's angel's birthday ...  "
            ]
          },
          "execution_count": 209,
          "metadata": {},
          "output_type": "execute_result"
        }
      ],
      "source": [
        "# CHEAP SOLUTION: translate texts to English (this is not 100% accurate)\n",
        "from googletrans import Translator\n",
        "\n",
        "# translate to English\n",
        "translator = Translator()\n",
        "texts_en = [t.text for t in translator.translate(texts, src='tl', dest='en')]\n",
        "\n",
        "df_en = pd.DataFrame({'Original': texts, 'English': texts_en})\n",
        "df_en.style.set_properties(**{'text-align': 'left'})\n",
        "df_en.head()"
      ]
    },
    {
      "attachments": {},
      "cell_type": "markdown",
      "metadata": {},
      "source": [
        "**Tokenizing and Removing Stopwords**"
      ]
    },
    {
      "attachments": {},
      "cell_type": "markdown",
      "metadata": {},
      "source": [
        "Now that we have the English translation of the text, we can then proceed to tokenizing it and removing English stopwords."
      ]
    },
    {
      "cell_type": "code",
      "execution_count": 210,
      "metadata": {},
      "outputs": [
        {
          "data": {
            "text/html": [
              "<div>\n",
              "<style scoped>\n",
              "    .dataframe tbody tr th:only-of-type {\n",
              "        vertical-align: middle;\n",
              "    }\n",
              "\n",
              "    .dataframe tbody tr th {\n",
              "        vertical-align: top;\n",
              "    }\n",
              "\n",
              "    .dataframe thead th {\n",
              "        text-align: right;\n",
              "    }\n",
              "</style>\n",
              "<table border=\"1\" class=\"dataframe\">\n",
              "  <thead>\n",
              "    <tr style=\"text-align: right;\">\n",
              "      <th></th>\n",
              "      <th>Original</th>\n",
              "      <th>Tokenized</th>\n",
              "    </tr>\n",
              "  </thead>\n",
              "  <tbody>\n",
              "    <tr>\n",
              "      <th>0</th>\n",
              "      <td>moneyma78808638 communist pantry na puro kamot...</td>\n",
              "      <td>moneyma78808638 communist pantry sweet potatoe...</td>\n",
              "    </tr>\n",
              "    <tr>\n",
              "      <th>1</th>\n",
              "      <td>scarlet87983415 miggypot29 parang yon sa commu...</td>\n",
              "      <td>scarlet87983415 miggypot29 's like communist p...</td>\n",
              "    </tr>\n",
              "    <tr>\n",
              "      <th>2</th>\n",
              "      <td>communist pantry na naman di na papatol yan la...</td>\n",
              "      <td>communist pantry , wo n't cut , especially sin...</td>\n",
              "    </tr>\n",
              "    <tr>\n",
              "      <th>3</th>\n",
              "      <td>nicknangit walang pinagkaiba sa communist pant...</td>\n",
              "      <td>nick 's different communist pantry patreng</td>\n",
              "    </tr>\n",
              "    <tr>\n",
              "      <th>4</th>\n",
              "      <td>jjcruz2 iamwhatiam300 yon birthday communist p...</td>\n",
              "      <td>jjcruz2 iamwhatiam300 's angel 's birthday com...</td>\n",
              "    </tr>\n",
              "  </tbody>\n",
              "</table>\n",
              "</div>"
            ],
            "text/plain": [
              "                                            Original  \\\n",
              "0  moneyma78808638 communist pantry na puro kamot...   \n",
              "1  scarlet87983415 miggypot29 parang yon sa commu...   \n",
              "2  communist pantry na naman di na papatol yan la...   \n",
              "3  nicknangit walang pinagkaiba sa communist pant...   \n",
              "4  jjcruz2 iamwhatiam300 yon birthday communist p...   \n",
              "\n",
              "                                           Tokenized  \n",
              "0  moneyma78808638 communist pantry sweet potatoe...  \n",
              "1  scarlet87983415 miggypot29 's like communist p...  \n",
              "2  communist pantry , wo n't cut , especially sin...  \n",
              "3         nick 's different communist pantry patreng  \n",
              "4  jjcruz2 iamwhatiam300 's angel 's birthday com...  "
            ]
          },
          "execution_count": 210,
          "metadata": {},
          "output_type": "execute_result"
        }
      ],
      "source": [
        "# Removing stopwords might be tedious for multilingual texts\n",
        "from nltk.corpus import stopwords\n",
        "from nltk.tokenize import word_tokenize\n",
        "\n",
        "texts_tok = []\n",
        "for text in texts_en:\n",
        "    # tokenize the text into words\n",
        "    words = word_tokenize(text)\n",
        "\n",
        "    # remove stopwords\n",
        "    filtered_words = [word for word in words if word.lower() not in stopwords.words('english')]\n",
        "\n",
        "    # convert back into sentence\n",
        "    filtered_sentence = ' '.join(filtered_words)\n",
        "    texts_tok.append(filtered_sentence)\n",
        "\n",
        "df_filt = pd.DataFrame({'Original': texts, 'Tokenized': texts_tok})\n",
        "df_filt.style.set_properties(**{'text-align': 'left'})\n",
        "df_filt.head()"
      ]
    },
    {
      "attachments": {},
      "cell_type": "markdown",
      "metadata": {},
      "source": [
        "**Stemming and lemmatization**"
      ]
    },
    {
      "attachments": {},
      "cell_type": "markdown",
      "metadata": {},
      "source": [
        "Using the tokenized text, we can then perform stemming and lemmatization."
      ]
    },
    {
      "cell_type": "code",
      "execution_count": 211,
      "metadata": {},
      "outputs": [
        {
          "name": "stderr",
          "output_type": "stream",
          "text": [
            "[nltk_data] Downloading package omw-1.4 to C:\\Users\\Dale\n",
            "[nltk_data]     Encinares\\AppData\\Roaming\\nltk_data...\n",
            "[nltk_data]   Package omw-1.4 is already up-to-date!\n"
          ]
        },
        {
          "data": {
            "text/html": [
              "<div>\n",
              "<style scoped>\n",
              "    .dataframe tbody tr th:only-of-type {\n",
              "        vertical-align: middle;\n",
              "    }\n",
              "\n",
              "    .dataframe tbody tr th {\n",
              "        vertical-align: top;\n",
              "    }\n",
              "\n",
              "    .dataframe thead th {\n",
              "        text-align: right;\n",
              "    }\n",
              "</style>\n",
              "<table border=\"1\" class=\"dataframe\">\n",
              "  <thead>\n",
              "    <tr style=\"text-align: right;\">\n",
              "      <th></th>\n",
              "      <th>Original</th>\n",
              "      <th>Stemmed</th>\n",
              "      <th>Lemmatized</th>\n",
              "    </tr>\n",
              "  </thead>\n",
              "  <tbody>\n",
              "    <tr>\n",
              "      <th>0</th>\n",
              "      <td>moneyma78808638 communist pantry na puro kamot...</td>\n",
              "      <td>[moneyma78808638, communist, pantri, sweet, po...</td>\n",
              "      <td>[moneyma78808638, communist, pantry, sweet, po...</td>\n",
              "    </tr>\n",
              "    <tr>\n",
              "      <th>1</th>\n",
              "      <td>scarlet87983415 miggypot29 parang yon sa commu...</td>\n",
              "      <td>[scarlet87983415, miggypot29, 's, like, commun...</td>\n",
              "      <td>[scarlet87983415, miggypot29, 's, like, commun...</td>\n",
              "    </tr>\n",
              "    <tr>\n",
              "      <th>2</th>\n",
              "      <td>communist pantry na naman di na papatol yan la...</td>\n",
              "      <td>[communist, pantri, ,, wo, n't, cut, ,, especi...</td>\n",
              "      <td>[communist, pantry, ,, wo, n't, cut, ,, especi...</td>\n",
              "    </tr>\n",
              "    <tr>\n",
              "      <th>3</th>\n",
              "      <td>nicknangit walang pinagkaiba sa communist pant...</td>\n",
              "      <td>[nick, 's, differ, communist, pantri, patreng]</td>\n",
              "      <td>[nick, 's, different, communist, pantry, patreng]</td>\n",
              "    </tr>\n",
              "    <tr>\n",
              "      <th>4</th>\n",
              "      <td>jjcruz2 iamwhatiam300 yon birthday communist p...</td>\n",
              "      <td>[jjcruz2, iamwhatiam300, 's, angel, 's, birthd...</td>\n",
              "      <td>[jjcruz2, iamwhatiam300, 's, angel, 's, birthd...</td>\n",
              "    </tr>\n",
              "  </tbody>\n",
              "</table>\n",
              "</div>"
            ],
            "text/plain": [
              "                                            Original  \\\n",
              "0  moneyma78808638 communist pantry na puro kamot...   \n",
              "1  scarlet87983415 miggypot29 parang yon sa commu...   \n",
              "2  communist pantry na naman di na papatol yan la...   \n",
              "3  nicknangit walang pinagkaiba sa communist pant...   \n",
              "4  jjcruz2 iamwhatiam300 yon birthday communist p...   \n",
              "\n",
              "                                             Stemmed  \\\n",
              "0  [moneyma78808638, communist, pantri, sweet, po...   \n",
              "1  [scarlet87983415, miggypot29, 's, like, commun...   \n",
              "2  [communist, pantri, ,, wo, n't, cut, ,, especi...   \n",
              "3     [nick, 's, differ, communist, pantri, patreng]   \n",
              "4  [jjcruz2, iamwhatiam300, 's, angel, 's, birthd...   \n",
              "\n",
              "                                          Lemmatized  \n",
              "0  [moneyma78808638, communist, pantry, sweet, po...  \n",
              "1  [scarlet87983415, miggypot29, 's, like, commun...  \n",
              "2  [communist, pantry, ,, wo, n't, cut, ,, especi...  \n",
              "3  [nick, 's, different, communist, pantry, patreng]  \n",
              "4  [jjcruz2, iamwhatiam300, 's, angel, 's, birthd...  "
            ]
          },
          "execution_count": 211,
          "metadata": {},
          "output_type": "execute_result"
        }
      ],
      "source": [
        "nltk.download('omw-1.4')\n",
        "from nltk.stem import PorterStemmer, WordNetLemmatizer\n",
        "\n",
        "# Initialize the stemmer and lemmatizer\n",
        "stemmer = PorterStemmer()\n",
        "lemmatizer = WordNetLemmatizer()\n",
        "\n",
        "texts_stem, texts_lem = [], []\n",
        "\n",
        "def stem_lem(text):\n",
        "  words = text.split()\n",
        "\n",
        "  # Stem each word\n",
        "  stemmed_words = [stemmer.stem(word) for word in words]\n",
        "  \n",
        "  # Lemmatize each word\n",
        "  lemmatized_words = [lemmatizer.lemmatize(word) for word in words]\n",
        "  \n",
        "  # Return the stemmed and lemmatized words as a tuple\n",
        "  texts_stem.append(stemmed_words)\n",
        "  texts_lem.append(lemmatized_words)\n",
        "\n",
        "  return (stemmed_words, lemmatized_words)\n",
        "\n",
        "\n",
        "# Process each text in the array\n",
        "processed_texts = [stem_lem(t) for t in texts_tok]\n",
        "\n",
        "\n",
        "df_sl = pd.DataFrame({'Original': texts, 'Stemmed': texts_stem, 'Lemmatized': texts_lem})\n",
        "df_sl.style.set_properties(**{'text-align': 'left'})\n",
        "\n",
        "df_sl.head()"
      ]
    },
    {
      "attachments": {},
      "cell_type": "markdown",
      "metadata": {},
      "source": [
        "### **Time Series Analysis**"
      ]
    },
    {
      "attachments": {},
      "cell_type": "markdown",
      "metadata": {},
      "source": [
        "**Binning**"
      ]
    },
    {
      "attachments": {},
      "cell_type": "markdown",
      "metadata": {},
      "source": [
        "To get a closer look at the trend on the amount of mis/disinformation tweets posted, we'll first plot the graphs per day. To get a wider reference point, we can also plot them by month. Afterwards, we can also bin the number of engagements, content types, tweet types, and account types per month to obtain additional insights."
      ]
    },
    {
      "cell_type": "code",
      "execution_count": 212,
      "metadata": {},
      "outputs": [
        {
          "data": {
            "image/png": "[encoded data removed]",
            "text/plain": [
              "<Figure size 1080x360 with 1 Axes>"
            ]
          },
          "metadata": {
            "needs_background": "light"
          },
          "output_type": "display_data"
        },
        {
          "name": "stdout",
          "output_type": "stream",
          "text": [
            "==============================\n",
            "Date posted  Date posted\n",
            "2021         4              95\n",
            "             5              21\n",
            "             6               5\n",
            "             7               1\n",
            "             8               4\n",
            "             9               2\n",
            "             10              1\n",
            "             12              1\n",
            "2022         2               1\n",
            "             3               1\n",
            "             4               1\n",
            "             5              12\n",
            "             6               2\n",
            "             7               1\n",
            "             8               1\n",
            "             9               1\n",
            "             11              2\n",
            "dtype: int64\n",
            "Total Number of Tweets: 152\n",
            "==============================\n"
          ]
        },
        {
          "data": {
            "image/png": "[encoded data removed]",
            "text/plain": [
              "<Figure size 1080x360 with 1 Axes>"
            ]
          },
          "metadata": {
            "needs_background": "light"
          },
          "output_type": "display_data"
        }
      ],
      "source": [
        "dates = sorted(df_encoded['Date posted'].dt.date.unique())\n",
        "\n",
        "num_tweets = df_encoded['Date posted'].dt.date.value_counts().sort_index()\n",
        "num_tweets.plot(kind = 'line',title = \"Mis/Disinformation Tweets about Community Pantries per Day\", xlabel= \"Date\", ylabel='Number of Tweets',figsize=(15,5))\n",
        "plt.show()\n",
        "\n",
        "print(\"=\"*30)\n",
        "month_tweets = df_encoded.groupby([df_encoded['Date posted'].dt.year, df_encoded['Date posted'].dt.month]).size()\n",
        "print(month_tweets)\n",
        "print(\"Total Number of Tweets:\",month_tweets.sum())\n",
        "print(\"=\"*30)\n",
        "      \n",
        "month_tweets.plot(style=\"-o\", kind = 'line',title = \"Mis/Disinformation Tweets about Community Pantries per Month\", xlabel= \"Year, Month\", ylabel='Number of Tweets',figsize=(15,5))\n",
        "plt.show()"
      ]
    },
    {
      "attachments": {},
      "cell_type": "markdown",
      "metadata": {},
      "source": [
        "We find that 95 out of the 152 tweets collected were posted on the month of April 2021. It is followed by the month of May 2021 where 21 tweets were posted. There is a noticable spike of tweets during the month of May 2022."
      ]
    },
    {
      "attachments": {},
      "cell_type": "markdown",
      "metadata": {
        "id": "1lydLMj6wuEB"
      },
      "source": [
        "### **Visualization**"
      ]
    },
    {
      "attachments": {},
      "cell_type": "markdown",
      "metadata": {},
      "source": [
        "In this section, we visualize the trends of content types, account types, tweet types, and engagements with respect to our timeframe."
      ]
    },
    {
      "attachments": {},
      "cell_type": "markdown",
      "metadata": {},
      "source": [
        "**Line Graphs**"
      ]
    },
    {
      "cell_type": "code",
      "execution_count": 213,
      "metadata": {},
      "outputs": [
        {
          "data": {
            "image/png": "[encoded data removed]",
            "text/plain": [
              "<Figure size 1080x360 with 1 Axes>"
            ]
          },
          "metadata": {
            "needs_background": "light"
          },
          "output_type": "display_data"
        },
        {
          "data": {
            "image/png": "[encoded data removed]",
            "text/plain": [
              "<Figure size 1080x360 with 1 Axes>"
            ]
          },
          "metadata": {
            "needs_background": "light"
          },
          "output_type": "display_data"
        },
        {
          "data": {
            "image/png": "[encoded data removed]",
            "text/plain": [
              "<Figure size 1080x360 with 1 Axes>"
            ]
          },
          "metadata": {
            "needs_background": "light"
          },
          "output_type": "display_data"
        },
        {
          "data": {
            "image/png": "[encoded data removed]",
            "text/plain": [
              "<Figure size 1080x360 with 1 Axes>"
            ]
          },
          "metadata": {
            "needs_background": "light"
          },
          "output_type": "display_data"
        }
      ],
      "source": [
        "engage_cols = ['Likes', 'Replies', 'Retweets', 'Quote tweets']\n",
        "engage_tweets = df_encoded.groupby([df_encoded['Date posted'].dt.year, df_encoded['Date posted'].dt.month])[engage_cols].sum().sort_index()\n",
        "engage_tweets.plot(style=\"-o\", kind = 'line',title = \"Engagement on Mis/Disinformation Tweets about Community Pantries per Month\", xlabel= \"Year, Month\", ylabel='Number of Engagements',figsize=(15,5))\n",
        "plt.show()\n",
        "\n",
        "acc_cols = ['Identified', 'Anonymous']\n",
        "acc_tweets = df_encoded.groupby([df_encoded['Date posted'].dt.year, df_encoded['Date posted'].dt.month])[acc_cols].sum().sort_index()\n",
        "acc_tweets.plot(style=\"-o\", kind = 'line',title = \"Types of Accounts that post Mis/Disinformation Tweets about Community Pantries per Month\", xlabel= \"Year, Month\", ylabel='Number of Tweets per Account Type',figsize=(15,5))\n",
        "plt.show()\n",
        "\n",
        "content_cols = ['Rational', 'Emotional', 'Transactional']\n",
        "content_tweets = df_encoded.groupby([df_encoded['Date posted'].dt.year, df_encoded['Date posted'].dt.month])[content_cols].sum().sort_index()\n",
        "content_tweets.plot(style=\"-o\", kind = 'line',title = \"Content Type of Mis/Disinformation Tweets about Community Pantries per Month\", xlabel= \"Year, Month\", ylabel='Number of Tweets per Content Type',figsize=(15,5))\n",
        "plt.show()\n",
        "\n",
        "tweet_cols = ['Text','Image','Reply', 'URL','Video']\n",
        "type_tweets = df_encoded.groupby([df_encoded['Date posted'].dt.year, df_encoded['Date posted'].dt.month])[tweet_cols].sum().sort_index()\n",
        "type_tweets.plot(style=\"-o\", kind = 'line',title = \"Tweet Type of Mis/Disinformation Tweets about Community Pantries per Month\", xlabel= \"Year, Month\", ylabel='Number of Tweets per Tweet Type',figsize=(15,5))\n",
        "plt.show()"
      ]
    },
    {
      "attachments": {},
      "cell_type": "markdown",
      "metadata": {},
      "source": [
        "**Histograms**"
      ]
    },
    {
      "attachments": {},
      "cell_type": "markdown",
      "metadata": {},
      "source": [
        "Here we see the distribution (spread) of the engagement the collected tweets received. "
      ]
    },
    {
      "cell_type": "code",
      "execution_count": 214,
      "metadata": {},
      "outputs": [
        {
          "data": {
            "image/png": "[encoded data removed]",
            "text/plain": [
              "<Figure size 720x720 with 4 Axes>"
            ]
          },
          "metadata": {
            "needs_background": "light"
          },
          "output_type": "display_data"
        }
      ],
      "source": [
        "plt.figure(figsize=(10,10))\n",
        "plt.suptitle(\"Engagement Distribution\", fontsize=20)\n",
        "plt.subplot(221)\n",
        "plt.title('Likes')\n",
        "df_encoded['Likes'].plot.hist()\n",
        "plt.xlabel('Number of Likes')\n",
        "plt.ylabel('Number of Tweets')\n",
        "plt.subplot(222)\n",
        "plt.title('Replies')\n",
        "df_encoded['Replies'].plot.hist()\n",
        "plt.xlabel('Number of Replies')\n",
        "plt.ylabel('Number of Tweets')\n",
        "plt.subplot(223)\n",
        "plt.title('Retweets')\n",
        "df_encoded['Retweets'].plot.hist()\n",
        "plt.xlabel('Number of Retweets')\n",
        "plt.ylabel('Number of Tweets')\n",
        "plt.subplot(224)\n",
        "plt.title('Quote tweets')\n",
        "df_encoded['Quote tweets'].plot.hist()\n",
        "plt.xlabel('Number of Quote tweets')\n",
        "plt.ylabel('Number of Tweets')\n",
        "plt.show()"
      ]
    },
    {
      "attachments": {},
      "cell_type": "markdown",
      "metadata": {},
      "source": [
        "From the distribution, we can tell that most of the tweets have little to no engagement."
      ]
    },
    {
      "attachments": {},
      "cell_type": "markdown",
      "metadata": {},
      "source": [
        "**Bar Graphs**"
      ]
    },
    {
      "attachments": {},
      "cell_type": "markdown",
      "metadata": {},
      "source": [
        "Here we show the distribution of Account types, Content types, and Tweet types that occured over the 152 tweets collected using bar graphs."
      ]
    },
    {
      "cell_type": "code",
      "execution_count": 215,
      "metadata": {},
      "outputs": [
        {
          "data": {
            "image/png": "[encoded data removed]",
            "text/plain": [
              "<Figure size 432x288 with 1 Axes>"
            ]
          },
          "metadata": {
            "needs_background": "light"
          },
          "output_type": "display_data"
        },
        {
          "data": {
            "image/png": "[encoded data removed]",
            "text/plain": [
              "<Figure size 432x288 with 1 Axes>"
            ]
          },
          "metadata": {
            "needs_background": "light"
          },
          "output_type": "display_data"
        },
        {
          "data": {
            "image/png": "[encoded data removed]",
            "text/plain": [
              "<Figure size 432x288 with 1 Axes>"
            ]
          },
          "metadata": {
            "needs_background": "light"
          },
          "output_type": "display_data"
        }
      ],
      "source": [
        "df_encoded[acc_cols].sum().plot.bar()\n",
        "plt.xticks(rotation=0)\n",
        "plt.ylabel('Number of Accounts')\n",
        "plt.title('Distribution of Account types')\n",
        "plt.show()\n",
        "df_encoded[content_cols].sum().plot.bar()\n",
        "plt.xticks(rotation=0)\n",
        "plt.ylabel('Number of Tweets')\n",
        "plt.title('Distribution of Content types')\n",
        "plt.show()\n",
        "df_encoded[tweet_cols].sum().plot.bar()\n",
        "plt.xticks(rotation=0)\n",
        "plt.ylabel('Number of Tweets')\n",
        "plt.title('Distribution of Tweet types')\n",
        "plt.show()"
      ]
    },
    {
      "attachments": {},
      "cell_type": "markdown",
      "metadata": {},
      "source": [
        "We can observe that majority of the tweets are posted by anonymous twitter users, attempts to appeal to the reader's emotion, and is usually comprised of text."
      ]
    },
    {
      "cell_type": "code",
      "execution_count": 216,
      "metadata": {},
      "outputs": [
        {
          "name": "stdout",
          "output_type": "stream",
          "text": [
            "Total number of users is 117\n"
          ]
        },
        {
          "data": {
            "image/png": "[encoded data removed]",
            "text/plain": [
              "<Figure size 432x288 with 1 Axes>"
            ]
          },
          "metadata": {
            "needs_background": "light"
          },
          "output_type": "display_data"
        }
      ],
      "source": [
        "df_encoded.drop_duplicates(subset =['Account handle'])['Joined'].dt.year.value_counts().sort_index().plot.bar()\n",
        "print(\"Total number of users is\", df_encoded.drop_duplicates(subset =['Account handle']).shape[0])\n",
        "plt.xlabel('Year Joined')\n",
        "plt.ylabel('Users')\n",
        "plt.show()"
      ]
    },
    {
      "attachments": {},
      "cell_type": "markdown",
      "metadata": {},
      "source": [
        "We also plotted the values of the *Joined* feature where it becomes evident that most of the users joined in the year 2020 followed by the year 2021."
      ]
    },
    {
      "attachments": {},
      "cell_type": "markdown",
      "metadata": {},
      "source": [
        "**Scatter Plots**"
      ]
    },
    {
      "attachments": {},
      "cell_type": "markdown",
      "metadata": {},
      "source": [
        "Here we generate a scatter plot to observe whether the account join date has any correlation to the tweet's post date."
      ]
    },
    {
      "cell_type": "code",
      "execution_count": 217,
      "metadata": {},
      "outputs": [
        {
          "name": "stdout",
          "output_type": "stream",
          "text": [
            "Number of unique users: 117\n"
          ]
        },
        {
          "data": {
            "image/png": "[encoded data removed]",
            "text/plain": [
              "<Figure size 720x432 with 1 Axes>"
            ]
          },
          "metadata": {
            "needs_background": "light"
          },
          "output_type": "display_data"
        }
      ],
      "source": [
        "print(\"Number of unique users:\",df_encoded['Account handle'].nunique())\n",
        "plt.figure(figsize=(10, 6))\n",
        "plt.scatter(df_encoded['Date posted'],df_encoded['Joined'], color = 'orange')\n",
        "plt.xlabel('Tweet Post Date')\n",
        "plt.ylabel('Account Join Date')\n",
        "plt.title('Correlation between Account Join Date and Tweet Post Date')\n",
        "plt.xticks(rotation = 90)\n",
        "\n",
        "plt.show()"
      ]
    },
    {
      "attachments": {},
      "cell_type": "markdown",
      "metadata": {},
      "source": [
        "From the scatter plot, there is a notable concentration of users who joined between the years 2020 to 2021 and posted a mis/disinformation tweet during the months of April and May 2021. "
      ]
    }
  ],
  "metadata": {
    "colab": {
      "provenance": []
    },
    "kernelspec": {
      "display_name": "Python 3",
      "name": "python3"
    },
    "language_info": {
      "codemirror_mode": {
        "name": "ipython",
        "version": 3
      },
      "file_extension": ".py",
      "mimetype": "text/x-python",
      "name": "python",
      "nbconvert_exporter": "python",
      "pygments_lexer": "ipython3",
      "version": "3.10.2"
    }
  },
  "nbformat": 4,
  "nbformat_minor": 0
}
